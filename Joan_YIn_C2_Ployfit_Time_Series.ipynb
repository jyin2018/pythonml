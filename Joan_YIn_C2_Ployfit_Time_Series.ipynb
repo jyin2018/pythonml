{
 "cells": [
  {
   "cell_type": "code",
   "execution_count": 1,
   "metadata": {},
   "outputs": [],
   "source": [
    "import numpy as np\n",
    "import pandas as pd\n",
    "import scipy.stats as stats\n",
    "import matplotlib.pyplot as plt\n",
    "import sklearn\n",
    "%matplotlib inline"
   ]
  },
  {
   "cell_type": "code",
   "execution_count": 2,
   "metadata": {},
   "outputs": [],
   "source": [
    "## Reading csv files\n",
    "def read_file(filename):\n",
    "    file_open = open(filename,\"r\")\n",
    "    data_array = []\n",
    "    for line in iter(file_open):\n",
    "        if line.find(\"Current\") != -1:\n",
    "            continue\n",
    "        line_no_newline = line.rstrip()\n",
    "        line_split = line_no_newline.split(\",\")\n",
    "        time1 = int(line_split[0])\n",
    "        current = float(line_split[1])\n",
    "        concat = [time1,current]\n",
    "        data_array.append(concat)\n",
    "    return data_array"
   ]
  },
  {
   "cell_type": "code",
   "execution_count": 3,
   "metadata": {},
   "outputs": [
    {
     "ename": "ValueError",
     "evalue": "invalid literal for int() with base 10: '\\ufeffdate'",
     "output_type": "error",
     "traceback": [
      "\u001b[0;31m---------------------------------------------------------------------------\u001b[0m",
      "\u001b[0;31mValueError\u001b[0m                                Traceback (most recent call last)",
      "\u001b[0;32m<ipython-input-3-23e5c8106310>\u001b[0m in \u001b[0;36m<module>\u001b[0;34m\u001b[0m\n\u001b[0;32m----> 1\u001b[0;31m \u001b[0mtime_current_data\u001b[0m \u001b[0;34m=\u001b[0m \u001b[0mread_file\u001b[0m\u001b[0;34m(\u001b[0m\u001b[0;34m\"data_akbilgic.csv\"\u001b[0m\u001b[0;34m)\u001b[0m\u001b[0;34m\u001b[0m\u001b[0m\n\u001b[0m",
      "\u001b[0;32m<ipython-input-2-63c15936032d>\u001b[0m in \u001b[0;36mread_file\u001b[0;34m(filename)\u001b[0m\n\u001b[1;32m      8\u001b[0m         \u001b[0mline_no_newline\u001b[0m \u001b[0;34m=\u001b[0m \u001b[0mline\u001b[0m\u001b[0;34m.\u001b[0m\u001b[0mrstrip\u001b[0m\u001b[0;34m(\u001b[0m\u001b[0;34m)\u001b[0m\u001b[0;34m\u001b[0m\u001b[0m\n\u001b[1;32m      9\u001b[0m         \u001b[0mline_split\u001b[0m \u001b[0;34m=\u001b[0m \u001b[0mline_no_newline\u001b[0m\u001b[0;34m.\u001b[0m\u001b[0msplit\u001b[0m\u001b[0;34m(\u001b[0m\u001b[0;34m\",\"\u001b[0m\u001b[0;34m)\u001b[0m\u001b[0;34m\u001b[0m\u001b[0m\n\u001b[0;32m---> 10\u001b[0;31m         \u001b[0mtime1\u001b[0m \u001b[0;34m=\u001b[0m \u001b[0mint\u001b[0m\u001b[0;34m(\u001b[0m\u001b[0mline_split\u001b[0m\u001b[0;34m[\u001b[0m\u001b[0;36m0\u001b[0m\u001b[0;34m]\u001b[0m\u001b[0;34m)\u001b[0m\u001b[0;34m\u001b[0m\u001b[0m\n\u001b[0m\u001b[1;32m     11\u001b[0m         \u001b[0mcurrent\u001b[0m \u001b[0;34m=\u001b[0m \u001b[0mfloat\u001b[0m\u001b[0;34m(\u001b[0m\u001b[0mline_split\u001b[0m\u001b[0;34m[\u001b[0m\u001b[0;36m1\u001b[0m\u001b[0;34m]\u001b[0m\u001b[0;34m)\u001b[0m\u001b[0;34m\u001b[0m\u001b[0m\n\u001b[1;32m     12\u001b[0m         \u001b[0mconcat\u001b[0m \u001b[0;34m=\u001b[0m \u001b[0;34m[\u001b[0m\u001b[0mtime1\u001b[0m\u001b[0;34m,\u001b[0m\u001b[0mcurrent\u001b[0m\u001b[0;34m]\u001b[0m\u001b[0;34m\u001b[0m\u001b[0m\n",
      "\u001b[0;31mValueError\u001b[0m: invalid literal for int() with base 10: '\\ufeffdate'"
     ]
    }
   ],
   "source": [
    "time_current_data = read_file(\"data_akbilgic.csv\")"
   ]
  },
  {
   "cell_type": "code",
   "execution_count": 4,
   "metadata": {},
   "outputs": [
    {
     "data": {
      "text/plain": [
       "[[0, 11.825], [317, 11.797]]"
      ]
     },
     "execution_count": 4,
     "metadata": {},
     "output_type": "execute_result"
    }
   ],
   "source": [
    "time_current_data[0:2]"
   ]
  },
  {
   "cell_type": "code",
   "execution_count": 5,
   "metadata": {},
   "outputs": [],
   "source": [
    "X = [] # time, 161 readings\n",
    "y = [] # I -- reading from csv file\n",
    "for kk in range(0,len(time_current_data)):\n",
    "    X.append(time_current_data[kk][0])\n",
    "    y.append(time_current_data[kk][1])"
   ]
  },
  {
   "cell_type": "code",
   "execution_count": 6,
   "metadata": {},
   "outputs": [
    {
     "name": "stdout",
     "output_type": "stream",
     "text": [
      "[0, 317, 652, 972, 1309, 1631, 1991, 2312, 2647, 2967, 3304, 3625, 3961, 4282, 4617, 4939, 5274, 5604, 5941, 6262, 6597, 6919, 7255, 7582, 7917, 8240, 8575, 8897, 9232, 9553, 9903, 10224, 10559, 10881, 11215, 11537, 11872, 12199, 12532, 12852, 13191, 13511, 13847, 14167, 14501, 14821, 15154, 15474, 15810, 16131, 16467, 16787, 17118, 17439, 17773, 18101, 18433, 18753, 19085, 19406, 19738, 20059, 20390, 20710, 21041, 21362, 21695, 22015, 22352, 22673, 23004, 23327, 23661, 23984, 24317, 24648, 24983, 25304, 25636, 25957, 26310, 26631, 26964, 27284, 27615, 27957, 28289, 28610, 28941, 29261, 29594, 29922, 30253, 30574, 30905, 31250, 31581, 31901, 32233, 32555, 32887, 33208, 33540, 33860, 34191, 34511, 34845, 35166, 35520, 35840, 36175, 36495, 36827, 37147, 37478, 37815, 38146, 38465, 38797, 39117, 39454, 39823, 40138, 40553, 40877, 41289, 41609, 42021, 42345, 42758, 43078, 43490, 43809, 44221, 44542, 44956, 45277, 45708, 46029, 46442, 46764, 47176, 47498, 47910, 48231, 48642, 48971, 49388, 49709, 50122, 50445, 50856, 51180, 51592, 51914, 52327, 52654, 53065, 53388, 53800, 54129]\n"
     ]
    }
   ],
   "source": [
    "print(X)"
   ]
  },
  {
   "cell_type": "code",
   "execution_count": 7,
   "metadata": {},
   "outputs": [
    {
     "name": "stdout",
     "output_type": "stream",
     "text": [
      "[11.825, 11.797, 11.805, 11.784, 11.783, 11.779, 11.788, 11.78, 11.702, 11.757, 11.738, 11.746, 11.762, 11.666, 11.726, 11.686, 11.698, 11.72, 11.633, 11.693, 11.67, 11.645, 11.686, 11.608, 11.665, 11.663, 11.617, 11.661, 11.59, 11.631, 11.651, 11.576, 11.617, 11.596, 11.622, 11.628, 11.575, 11.577, 11.608, 11.601, 11.602, 11.583, 11.573, 11.608, 11.589, 11.597, 11.589, 11.54, 11.604, 11.527, 11.573, 11.565, 11.491, 11.59, 11.522, 11.557, 11.577, 11.43, 11.597, 11.429, 11.55, 11.55, 11.431, 11.572, 11.39, 11.521, 11.465, 11.407, 11.572, 11.293, 11.549, 11.396, 11.433, 11.52, 11.31, 11.534, 11.35, 11.397, 11.497, 11.278, 11.516, 11.227, 11.379, 11.367, 11.152, 11.462, 11.137, 11.391, 11.268, 11.165, 11.419, 11.06, 11.404, 11.069, 11.217, 11.287, 11.054, 11.38, 10.973, 11.215, 11.117, 11.036, 11.334, 10.85, 11.318, 10.889, 11.084, 11.115, 10.89, 11.271, 10.752, 11.184, 10.985, 10.979, 11.166, 10.737, 11.235, 10.761, 11.054, 10.985, 10.815, 11.18, 10.599, 10.842, 11.1, 10.641, 10.983, 10.995, 10.525, 10.953, 10.627, 10.512, 10.975, 10.583, 10.686, 11.006, 10.341, 10.635, 10.783, 10.339, 10.819, 10.727, 10.376, 10.854, 10.352, 10.414, 10.849, 10.405, 10.642, 10.83, 10.148, 10.594, 10.466, 10.251, 10.781, 10.38, 10.391, 10.695, 10.062, 10.342, 10.561]\n"
     ]
    }
   ],
   "source": [
    "print(y)"
   ]
  },
  {
   "cell_type": "code",
   "execution_count": 8,
   "metadata": {},
   "outputs": [
    {
     "name": "stdout",
     "output_type": "stream",
     "text": [
      "Coeff  [ 5.79028479e-19 -6.05337486e-14  1.64371633e-09 -2.92101235e-05\n",
      "  1.18137491e+01]\n",
      "          4             3             2\n",
      "5.79e-19 t - 6.053e-14 t + 1.644e-09 t - 2.921e-05 t + 11.81\n"
     ]
    }
   ],
   "source": [
    "# Polynomial fit using Numpy\n",
    "Order = 4\n",
    "fit = np.polyfit(X,y,Order)\n",
    "print(\"Coeff \", fit)\n",
    "fit1 = np.poly1d(fit,variable=\"t\")\n",
    "print(fit1)\n",
    "y1 = fit1(X)"
   ]
  },
  {
   "cell_type": "code",
   "execution_count": 22,
   "metadata": {},
   "outputs": [],
   "source": [
    "# Equation\n",
    "# I(t) = 5.79e-19xt**4 - 6.053e-14xt**3 + 1.644e-09xt**2 - 2.921e-05xt + 11.81 "
   ]
  },
  {
   "cell_type": "code",
   "execution_count": 9,
   "metadata": {},
   "outputs": [],
   "source": [
    "# Using polynomial equation, find the value of I for time interval of 5 seconds\n",
    "y_calculated = []\n",
    "for val in range(0,54130,5):\n",
    "    y_calculated.append(fit1(val))  "
   ]
  },
  {
   "cell_type": "code",
   "execution_count": 10,
   "metadata": {},
   "outputs": [
    {
     "name": "stdout",
     "output_type": "stream",
     "text": [
      "[11.813749139771044, 11.813603130238985, 11.813457202847346, 11.81331135755074, 11.81316559430379]\n",
      "10826\n",
      "161\n"
     ]
    }
   ],
   "source": [
    "# print to check\n",
    "print(y_calculated[0:5])\n",
    "print(len(y_calculated))\n",
    "print(len(X))"
   ]
  },
  {
   "cell_type": "code",
   "execution_count": 11,
   "metadata": {},
   "outputs": [],
   "source": [
    "# create list of nums; 54129 is the last time in current readings, step value of 5 seconds\n",
    "nums = []\n",
    "for kk in range(0,54130,5):\n",
    "    nums.append(kk)"
   ]
  },
  {
   "cell_type": "code",
   "execution_count": 12,
   "metadata": {},
   "outputs": [
    {
     "data": {
      "image/png": "[encoded data removed]",
      "text/plain": [
       "<Figure size 432x288 with 1 Axes>"
      ]
     },
     "metadata": {
      "needs_background": "light"
     },
     "output_type": "display_data"
    }
   ],
   "source": [
    "plt.plot(X,y,'ro')\n",
    "plt.plot(nums,y_calculated,'b+')\n",
    "plt.axis([0,55000,9,12])\n",
    "plt.show()"
   ]
  },
  {
   "cell_type": "code",
   "execution_count": 13,
   "metadata": {},
   "outputs": [
    {
     "name": "stdout",
     "output_type": "stream",
     "text": [
      "10.514743214759827\n",
      "10.407439918603144\n"
     ]
    }
   ],
   "source": [
    "# OK, now predict values for 50000 and 60000\n",
    "print(fit1(50000))\n",
    "print(fit1(60000))"
   ]
  },
  {
   "cell_type": "code",
   "execution_count": 14,
   "metadata": {},
   "outputs": [
    {
     "data": {
      "image/png": "[encoded data removed]",
      "text/plain": [
       "<Figure size 432x288 with 1 Axes>"
      ]
     },
     "metadata": {
      "needs_background": "light"
     },
     "output_type": "display_data"
    }
   ],
   "source": [
    "# Zoom in to see details\n",
    "plt.plot(X,y,'ro')\n",
    "plt.plot(nums,y_calculated,'b+')\n",
    "plt.axis([0,10000,11.5,12])\n",
    "plt.show()"
   ]
  },
  {
   "cell_type": "code",
   "execution_count": null,
   "metadata": {},
   "outputs": [],
   "source": []
  }
 ],
 "metadata": {
  "anaconda-cloud": {},
  "kernelspec": {
   "display_name": "Python 3",
   "language": "python",
   "name": "python3"
  },
  "language_info": {
   "codemirror_mode": {
    "name": "ipython",
    "version": 3
   },
   "file_extension": ".py",
   "mimetype": "text/x-python",
   "name": "python",
   "nbconvert_exporter": "python",
   "pygments_lexer": "ipython3",
   "version": "3.6.6"
  }
 },
 "nbformat": 4,
 "nbformat_minor": 2
}
