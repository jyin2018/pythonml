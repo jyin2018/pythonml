{
 "cells": [
  {
   "cell_type": "code",
   "execution_count": 6,
   "metadata": {},
   "outputs": [
    {
     "data": {
      "text/plain": [
       "'\\nRegression with stock exchange data -- ISTANBUL+STOCK+EXCHANGE -- 398 data rows\\nData sets includes returns of Istanbul Stock Exchange with seven other international index;\\nSP, DAX, FTSE, NIKKEI, BOVESPA, MSCE_EU, MSCI_EM from Jun 5, 2009 to Feb 22, 2011.\\nhttps://archive.ics.uci.edu/ml/datasets/ISTANBUL+STOCK+EXCHANGE\\nOriginal 536 rows and 8 attributes with no missing data\\n'"
      ]
     },
     "execution_count": 6,
     "metadata": {},
     "output_type": "execute_result"
    }
   ],
   "source": [
    "\"\"\"\n",
    "Regression with stock exchange data -- ISTANBUL+STOCK+EXCHANGE \n",
    "Data sets includes returns of Istanbul Stock Exchange with seven other international index;\n",
    "SP, DAX, FTSE, NIKKEI, BOVESPA, MSCE_EU, MSCI_EM from Jun 5, 2009 to Feb 22, 2011.\n",
    "https://archive.ics.uci.edu/ml/datasets/ISTANBUL+STOCK+EXCHANGE\n",
    "Original 536 rows and 8 attributes with no missing data\n",
    "\"\"\""
   ]
  },
  {
   "cell_type": "code",
   "execution_count": 2,
   "metadata": {},
   "outputs": [],
   "source": [
    "def read_file_auto(filename):\n",
    "    line_count = 0\n",
    "    file_read = open(filename,\"r\")\n",
    "    file_write = open(\"data_stock.csv\",\"w\")\n",
    "    for line in iter(file_read):\n",
    "        line_no_newline = line.rstrip()\n",
    "        line_split = line_no_newline.split(\",\")\n",
    "        if \"?\" in line_split:\n",
    "            line_count += 1\n",
    "            print(\"Bad line number:\",line_count)\n",
    "            continue  \n",
    "        else:\n",
    "            line_count += 1\n",
    "            file_write.write(line)\n",
    "    file_read.close()\n",
    "    file_write.close()\n",
    "    return"
   ]
  },
  {
   "cell_type": "code",
   "execution_count": 3,
   "metadata": {},
   "outputs": [],
   "source": [
    "read_file_auto(\"data_akbilgic.csv\")"
   ]
  },
  {
   "cell_type": "code",
   "execution_count": 4,
   "metadata": {},
   "outputs": [],
   "source": [
    "import pandas as pd\n",
    "import numpy as np\n",
    "import matplotlib.pyplot as plt\n",
    "%matplotlib inline"
   ]
  },
  {
   "cell_type": "code",
   "execution_count": 5,
   "metadata": {},
   "outputs": [
    {
     "name": "stdout",
     "output_type": "stream",
     "text": [
      "Dataframe shape:  (536, 10) \n",
      "\n",
      "       date  TL_BASED_ISE  US_BASED_ISE        SP       DAX      FTSE  \\\n",
      "0  5-Jan-09      0.035754      0.038376 -0.004679  0.002193  0.003894   \n",
      "1  6-Jan-09      0.025426      0.031813  0.007787  0.008455  0.012866   \n",
      "2  7-Jan-09     -0.028862     -0.026353 -0.030469 -0.017833 -0.028735   \n",
      "3  8-Jan-09     -0.062208     -0.084716  0.003391 -0.011726 -0.000466   \n",
      "4  9-Jan-09      0.009860      0.009658 -0.021533 -0.019873 -0.012710   \n",
      "\n",
      "     NIKKEI   BOVESPA        EU        EM  \n",
      "0  0.000000  0.031190  0.012698  0.028524  \n",
      "1  0.004162  0.018920  0.011341  0.008773  \n",
      "2  0.017293 -0.035899 -0.017073 -0.020015  \n",
      "3 -0.040061  0.028283 -0.005561 -0.019424  \n",
      "4 -0.004474 -0.009764 -0.010989 -0.007802  \n"
     ]
    }
   ],
   "source": [
    "df = pd.read_csv('data_stock.csv') # deleted 6 rows with ? unknown data\n",
    "print(\"Dataframe shape: \",df.shape,\"\\n\") # 392 rows + header\n",
    "print(df.head())"
   ]
  },
  {
   "cell_type": "code",
   "execution_count": 11,
   "metadata": {},
   "outputs": [],
   "source": [
    "df = df.drop(\"date\",axis=1) #axis = 1 means column, axis = 0 means row\n",
    "#df = df.drop(\"TL_BASED_ISE\",axis=1)"
   ]
  },
  {
   "cell_type": "code",
   "execution_count": 8,
   "metadata": {},
   "outputs": [
    {
     "data": {
      "text/html": [
       "<div>\n",
       "<style scoped>\n",
       "    .dataframe tbody tr th:only-of-type {\n",
       "        vertical-align: middle;\n",
       "    }\n",
       "\n",
       "    .dataframe tbody tr th {\n",
       "        vertical-align: top;\n",
       "    }\n",
       "\n",
       "    .dataframe thead th {\n",
       "        text-align: right;\n",
       "    }\n",
       "</style>\n",
       "<table border=\"1\" class=\"dataframe\">\n",
       "  <thead>\n",
       "    <tr style=\"text-align: right;\">\n",
       "      <th></th>\n",
       "      <th>count</th>\n",
       "      <th>mean</th>\n",
       "      <th>std</th>\n",
       "      <th>min</th>\n",
       "      <th>25%</th>\n",
       "      <th>50%</th>\n",
       "      <th>75%</th>\n",
       "      <th>max</th>\n",
       "    </tr>\n",
       "  </thead>\n",
       "  <tbody>\n",
       "    <tr>\n",
       "      <th>TL_BASED_ISE</th>\n",
       "      <td>536.0</td>\n",
       "      <td>0.001629</td>\n",
       "      <td>0.016264</td>\n",
       "      <td>-0.062208</td>\n",
       "      <td>-0.006669</td>\n",
       "      <td>0.002189</td>\n",
       "      <td>0.010584</td>\n",
       "      <td>0.068952</td>\n",
       "    </tr>\n",
       "    <tr>\n",
       "      <th>US_BASED_ISE</th>\n",
       "      <td>536.0</td>\n",
       "      <td>0.001552</td>\n",
       "      <td>0.021122</td>\n",
       "      <td>-0.084716</td>\n",
       "      <td>-0.009753</td>\n",
       "      <td>0.002643</td>\n",
       "      <td>0.013809</td>\n",
       "      <td>0.100621</td>\n",
       "    </tr>\n",
       "    <tr>\n",
       "      <th>SP</th>\n",
       "      <td>536.0</td>\n",
       "      <td>0.000643</td>\n",
       "      <td>0.014093</td>\n",
       "      <td>-0.054262</td>\n",
       "      <td>-0.004675</td>\n",
       "      <td>0.000876</td>\n",
       "      <td>0.006706</td>\n",
       "      <td>0.068366</td>\n",
       "    </tr>\n",
       "    <tr>\n",
       "      <th>DAX</th>\n",
       "      <td>536.0</td>\n",
       "      <td>0.000721</td>\n",
       "      <td>0.014557</td>\n",
       "      <td>-0.052331</td>\n",
       "      <td>-0.006212</td>\n",
       "      <td>0.000887</td>\n",
       "      <td>0.008224</td>\n",
       "      <td>0.058951</td>\n",
       "    </tr>\n",
       "    <tr>\n",
       "      <th>FTSE</th>\n",
       "      <td>536.0</td>\n",
       "      <td>0.000510</td>\n",
       "      <td>0.012656</td>\n",
       "      <td>-0.054816</td>\n",
       "      <td>-0.005808</td>\n",
       "      <td>0.000409</td>\n",
       "      <td>0.007428</td>\n",
       "      <td>0.050323</td>\n",
       "    </tr>\n",
       "    <tr>\n",
       "      <th>NIKKEI</th>\n",
       "      <td>536.0</td>\n",
       "      <td>0.000308</td>\n",
       "      <td>0.014850</td>\n",
       "      <td>-0.050448</td>\n",
       "      <td>-0.007407</td>\n",
       "      <td>0.000000</td>\n",
       "      <td>0.007882</td>\n",
       "      <td>0.061229</td>\n",
       "    </tr>\n",
       "    <tr>\n",
       "      <th>BOVESPA</th>\n",
       "      <td>536.0</td>\n",
       "      <td>0.000935</td>\n",
       "      <td>0.015751</td>\n",
       "      <td>-0.053849</td>\n",
       "      <td>-0.007215</td>\n",
       "      <td>0.000279</td>\n",
       "      <td>0.008881</td>\n",
       "      <td>0.063792</td>\n",
       "    </tr>\n",
       "    <tr>\n",
       "      <th>EU</th>\n",
       "      <td>536.0</td>\n",
       "      <td>0.000471</td>\n",
       "      <td>0.012990</td>\n",
       "      <td>-0.048817</td>\n",
       "      <td>-0.005952</td>\n",
       "      <td>0.000196</td>\n",
       "      <td>0.007792</td>\n",
       "      <td>0.067042</td>\n",
       "    </tr>\n",
       "    <tr>\n",
       "      <th>EM</th>\n",
       "      <td>536.0</td>\n",
       "      <td>0.000936</td>\n",
       "      <td>0.010501</td>\n",
       "      <td>-0.038564</td>\n",
       "      <td>-0.004911</td>\n",
       "      <td>0.001077</td>\n",
       "      <td>0.006423</td>\n",
       "      <td>0.047805</td>\n",
       "    </tr>\n",
       "  </tbody>\n",
       "</table>\n",
       "</div>"
      ],
      "text/plain": [
       "              count      mean       std       min       25%       50%  \\\n",
       "TL_BASED_ISE  536.0  0.001629  0.016264 -0.062208 -0.006669  0.002189   \n",
       "US_BASED_ISE  536.0  0.001552  0.021122 -0.084716 -0.009753  0.002643   \n",
       "SP            536.0  0.000643  0.014093 -0.054262 -0.004675  0.000876   \n",
       "DAX           536.0  0.000721  0.014557 -0.052331 -0.006212  0.000887   \n",
       "FTSE          536.0  0.000510  0.012656 -0.054816 -0.005808  0.000409   \n",
       "NIKKEI        536.0  0.000308  0.014850 -0.050448 -0.007407  0.000000   \n",
       "BOVESPA       536.0  0.000935  0.015751 -0.053849 -0.007215  0.000279   \n",
       "EU            536.0  0.000471  0.012990 -0.048817 -0.005952  0.000196   \n",
       "EM            536.0  0.000936  0.010501 -0.038564 -0.004911  0.001077   \n",
       "\n",
       "                   75%       max  \n",
       "TL_BASED_ISE  0.010584  0.068952  \n",
       "US_BASED_ISE  0.013809  0.100621  \n",
       "SP            0.006706  0.068366  \n",
       "DAX           0.008224  0.058951  \n",
       "FTSE          0.007428  0.050323  \n",
       "NIKKEI        0.007882  0.061229  \n",
       "BOVESPA       0.008881  0.063792  \n",
       "EU            0.007792  0.067042  \n",
       "EM            0.006423  0.047805  "
      ]
     },
     "execution_count": 8,
     "metadata": {},
     "output_type": "execute_result"
    }
   ],
   "source": [
    "df.describe().T"
   ]
  },
  {
   "cell_type": "code",
   "execution_count": 12,
   "metadata": {},
   "outputs": [
    {
     "name": "stdout",
     "output_type": "stream",
     "text": [
      "   TL_BASED_ISE  US_BASED_ISE        SP       DAX      FTSE    NIKKEI  \\\n",
      "0      0.035754      0.038376 -0.004679  0.002193  0.003894  0.000000   \n",
      "1      0.025426      0.031813  0.007787  0.008455  0.012866  0.004162   \n",
      "2     -0.028862     -0.026353 -0.030469 -0.017833 -0.028735  0.017293   \n",
      "3     -0.062208     -0.084716  0.003391 -0.011726 -0.000466 -0.040061   \n",
      "4      0.009860      0.009658 -0.021533 -0.019873 -0.012710 -0.004474   \n",
      "\n",
      "    BOVESPA        EU        EM  \n",
      "0  0.031190  0.012698  0.028524  \n",
      "1  0.018920  0.011341  0.008773  \n",
      "2 -0.035899 -0.017073 -0.020015  \n",
      "3  0.028283 -0.005561 -0.019424  \n",
      "4 -0.009764 -0.010989 -0.007802  \n"
     ]
    }
   ],
   "source": [
    "print(df[0:5])"
   ]
  },
  {
   "cell_type": "code",
   "execution_count": 13,
   "metadata": {},
   "outputs": [
    {
     "name": "stdout",
     "output_type": "stream",
     "text": [
      "     TL_BASED_ISE  US_BASED_ISE        SP       DAX      FTSE    NIKKEI  \\\n",
      "531      0.008599      0.013400  0.006238  0.001925  0.007952  0.005717   \n",
      "532      0.009310      0.015977  0.003071 -0.001186  0.000345  0.002620   \n",
      "533      0.000191     -0.001653  0.001923  0.002872 -0.000723  0.000568   \n",
      "534     -0.013069     -0.013706 -0.020742 -0.014239 -0.011275  0.001358   \n",
      "535     -0.007246     -0.019442  0.000000 -0.000473 -0.002997 -0.017920   \n",
      "\n",
      "      BOVESPA        EU        EM  \n",
      "531  0.018371  0.006975  0.003039  \n",
      "532  0.001686 -0.000581  0.001039  \n",
      "533  0.005628  0.000572  0.006938  \n",
      "534 -0.011942 -0.012615 -0.000958  \n",
      "535 -0.012252 -0.005465 -0.014297  \n"
     ]
    }
   ],
   "source": [
    "print(df[-5:])"
   ]
  },
  {
   "cell_type": "code",
   "execution_count": 15,
   "metadata": {},
   "outputs": [
    {
     "name": "stdout",
     "output_type": "stream",
     "text": [
      "Dataframe shape:  (536, 9) \n",
      "\n"
     ]
    }
   ],
   "source": [
    "# Normalizing dfpr scale value into 0 to 1\n",
    "from sklearn import preprocessing\n",
    "float_array = df.values.astype(float)\n",
    "min_max_scaler = preprocessing.MinMaxScaler() #standard Scaler()\n",
    "scaled_array = min_max_scaler.fit_transform(float_array)\n",
    "df_normalized = pd.DataFrame(scaled_array,columns = [\"TL_BASED_ISE\",\"US_BASED_ISE\",\"SP\",\"DAX\",\"FTSE\",\"NIKKEI\",\"BOVESPA\",\"EU\",\"EM\"])\n",
    "print(\"Dataframe shape: \",df_normalized.shape,\"\\n\") # 392 rows, 7 columns + header"
   ]
  },
  {
   "cell_type": "code",
   "execution_count": 16,
   "metadata": {},
   "outputs": [
    {
     "name": "stdout",
     "output_type": "stream",
     "text": [
      "   TL_BASED_ISE  US_BASED_ISE        SP       DAX      FTSE    NIKKEI  \\\n",
      "0      0.746889      0.664154  0.404333  0.489969  0.558409  0.451728   \n",
      "1      0.668147      0.628741  0.505990  0.546240  0.643736  0.489000   \n",
      "2      0.254242      0.314902  0.194024  0.310007  0.248066  0.606576   \n",
      "3      0.000000      0.000000  0.470147  0.364884  0.516936  0.093003   \n",
      "4      0.549467      0.509203  0.266894  0.291678  0.400483  0.411670   \n",
      "\n",
      "    BOVESPA        EU        EM  \n",
      "0  0.722875  0.530944  0.776771  \n",
      "1  0.618569  0.519229  0.548080  \n",
      "2  0.152590  0.273987  0.214765  \n",
      "3  0.698163  0.373348  0.221615  \n",
      "4  0.374747  0.326501  0.356172  \n"
     ]
    }
   ],
   "source": [
    "print(df_normalized[0:5])\n",
    "# print(df_normalized[-5:])"
   ]
  },
  {
   "cell_type": "code",
   "execution_count": 17,
   "metadata": {},
   "outputs": [
    {
     "name": "stderr",
     "output_type": "stream",
     "text": [
      "/Users/qiongyin/anaconda3/lib/python3.6/site-packages/IPython/core/interactiveshell.py:3265: UserWarning: To output multiple subplots, the figure containing the passed axes is being cleared\n",
      "  exec(code_obj, self.user_global_ns, self.user_ns)\n"
     ]
    },
    {
     "data": {
      "text/plain": [
       "array([[<matplotlib.axes._subplots.AxesSubplot object at 0x10371ee80>,\n",
       "        <matplotlib.axes._subplots.AxesSubplot object at 0x1a1872e6d8>,\n",
       "        <matplotlib.axes._subplots.AxesSubplot object at 0x1a18754940>],\n",
       "       [<matplotlib.axes._subplots.AxesSubplot object at 0x1a1877de10>,\n",
       "        <matplotlib.axes._subplots.AxesSubplot object at 0x1a18496198>,\n",
       "        <matplotlib.axes._subplots.AxesSubplot object at 0x1a187cefd0>],\n",
       "       [<matplotlib.axes._subplots.AxesSubplot object at 0x1a187fc588>,\n",
       "        <matplotlib.axes._subplots.AxesSubplot object at 0x1a18822b38>,\n",
       "        <matplotlib.axes._subplots.AxesSubplot object at 0x1a18822b70>]],\n",
       "      dtype=object)"
      ]
     },
     "execution_count": 17,
     "metadata": {},
     "output_type": "execute_result"
    },
    {
     "data": {
      "image/png": "[encoded data removed]",
      "text/plain": [
       "<Figure size 576x576 with 9 Axes>"
      ]
     },
     "metadata": {
      "needs_background": "light"
     },
     "output_type": "display_data"
    }
   ],
   "source": [
    "fig = plt.figure(figsize = (8,8))\n",
    "ax = fig.gca()\n",
    "df.hist(ax = ax)"
   ]
  },
  {
   "cell_type": "code",
   "execution_count": 18,
   "metadata": {},
   "outputs": [
    {
     "data": {
      "text/plain": [
       "array([[<matplotlib.axes._subplots.AxesSubplot object at 0x1a188e0630>,\n",
       "        <matplotlib.axes._subplots.AxesSubplot object at 0x1a18d396a0>,\n",
       "        <matplotlib.axes._subplots.AxesSubplot object at 0x1a18d61c18>],\n",
       "       [<matplotlib.axes._subplots.AxesSubplot object at 0x1a18d911d0>,\n",
       "        <matplotlib.axes._subplots.AxesSubplot object at 0x1a18db7748>,\n",
       "        <matplotlib.axes._subplots.AxesSubplot object at 0x1a18de0cc0>],\n",
       "       [<matplotlib.axes._subplots.AxesSubplot object at 0x1a18e07a58>,\n",
       "        <matplotlib.axes._subplots.AxesSubplot object at 0x1a184a0a20>,\n",
       "        <matplotlib.axes._subplots.AxesSubplot object at 0x1a184a0e80>]],\n",
       "      dtype=object)"
      ]
     },
     "execution_count": 18,
     "metadata": {},
     "output_type": "execute_result"
    },
    {
     "data": {
      "image/png": "[encoded data removed]",
      "text/plain": [
       "<Figure size 576x576 with 9 Axes>"
      ]
     },
     "metadata": {
      "needs_background": "light"
     },
     "output_type": "display_data"
    }
   ],
   "source": [
    "fig = plt.figure(figsize = (8,8))\n",
    "ax = fig.gca()\n",
    "df_normalized.hist(ax = ax)"
   ]
  },
  {
   "cell_type": "code",
   "execution_count": 19,
   "metadata": {},
   "outputs": [],
   "source": [
    "def correlation_matrix(df):\n",
    "    from matplotlib import pyplot as plt\n",
    "    from matplotlib import cm as cm\n",
    "\n",
    "    fig = plt.figure()\n",
    "    ax1 = fig.add_subplot(111)\n",
    "    cmap = cm.get_cmap('jet', 30)\n",
    "    labels = [\"M\",\"TL_BASED_ISE\",\"US_BASED_ISE\",\"SP\",\"DAX\",\"FTSE\",\"NIKKEI\",\"BOVESPA\",\"EU\",\"EM\"]\n",
    "    cax = ax1.imshow(df.corr(), interpolation=\"nearest\", cmap=cmap)\n",
    "    ax1.grid(True)\n",
    "    ax1.set_xticklabels(labels,fontsize=6)\n",
    "    ax1.set_yticklabels(labels,fontsize=6)\n",
    "    # Add colorbar, make sure to specify tick locations to match desired ticklabels\n",
    "    fig.colorbar(cax, ticks=[.75,.8,.85,.90,.95,1])\n",
    "    plt.show()"
   ]
  },
  {
   "cell_type": "code",
   "execution_count": 20,
   "metadata": {},
   "outputs": [
    {
     "data": {
      "text/html": [
       "<div>\n",
       "<style scoped>\n",
       "    .dataframe tbody tr th:only-of-type {\n",
       "        vertical-align: middle;\n",
       "    }\n",
       "\n",
       "    .dataframe tbody tr th {\n",
       "        vertical-align: top;\n",
       "    }\n",
       "\n",
       "    .dataframe thead th {\n",
       "        text-align: right;\n",
       "    }\n",
       "</style>\n",
       "<table border=\"1\" class=\"dataframe\">\n",
       "  <thead>\n",
       "    <tr style=\"text-align: right;\">\n",
       "      <th></th>\n",
       "      <th>TL_BASED_ISE</th>\n",
       "      <th>US_BASED_ISE</th>\n",
       "      <th>SP</th>\n",
       "      <th>DAX</th>\n",
       "      <th>FTSE</th>\n",
       "      <th>NIKKEI</th>\n",
       "      <th>BOVESPA</th>\n",
       "      <th>EU</th>\n",
       "      <th>EM</th>\n",
       "    </tr>\n",
       "  </thead>\n",
       "  <tbody>\n",
       "    <tr>\n",
       "      <th>TL_BASED_ISE</th>\n",
       "      <td>1.000000</td>\n",
       "      <td>0.942897</td>\n",
       "      <td>0.439489</td>\n",
       "      <td>0.602081</td>\n",
       "      <td>0.622948</td>\n",
       "      <td>0.260052</td>\n",
       "      <td>0.432898</td>\n",
       "      <td>0.655519</td>\n",
       "      <td>0.600295</td>\n",
       "    </tr>\n",
       "    <tr>\n",
       "      <th>US_BASED_ISE</th>\n",
       "      <td>0.942897</td>\n",
       "      <td>1.000000</td>\n",
       "      <td>0.449561</td>\n",
       "      <td>0.629218</td>\n",
       "      <td>0.648740</td>\n",
       "      <td>0.393225</td>\n",
       "      <td>0.446889</td>\n",
       "      <td>0.690761</td>\n",
       "      <td>0.701954</td>\n",
       "    </tr>\n",
       "    <tr>\n",
       "      <th>SP</th>\n",
       "      <td>0.439489</td>\n",
       "      <td>0.449561</td>\n",
       "      <td>1.000000</td>\n",
       "      <td>0.685843</td>\n",
       "      <td>0.657673</td>\n",
       "      <td>0.131250</td>\n",
       "      <td>0.722069</td>\n",
       "      <td>0.687550</td>\n",
       "      <td>0.528243</td>\n",
       "    </tr>\n",
       "    <tr>\n",
       "      <th>DAX</th>\n",
       "      <td>0.602081</td>\n",
       "      <td>0.629218</td>\n",
       "      <td>0.685843</td>\n",
       "      <td>1.000000</td>\n",
       "      <td>0.867369</td>\n",
       "      <td>0.258538</td>\n",
       "      <td>0.585791</td>\n",
       "      <td>0.936393</td>\n",
       "      <td>0.665162</td>\n",
       "    </tr>\n",
       "    <tr>\n",
       "      <th>FTSE</th>\n",
       "      <td>0.622948</td>\n",
       "      <td>0.648740</td>\n",
       "      <td>0.657673</td>\n",
       "      <td>0.867369</td>\n",
       "      <td>1.000000</td>\n",
       "      <td>0.255236</td>\n",
       "      <td>0.596287</td>\n",
       "      <td>0.948963</td>\n",
       "      <td>0.687543</td>\n",
       "    </tr>\n",
       "    <tr>\n",
       "      <th>NIKKEI</th>\n",
       "      <td>0.260052</td>\n",
       "      <td>0.393225</td>\n",
       "      <td>0.131250</td>\n",
       "      <td>0.258538</td>\n",
       "      <td>0.255236</td>\n",
       "      <td>1.000000</td>\n",
       "      <td>0.172752</td>\n",
       "      <td>0.283750</td>\n",
       "      <td>0.547288</td>\n",
       "    </tr>\n",
       "    <tr>\n",
       "      <th>BOVESPA</th>\n",
       "      <td>0.432898</td>\n",
       "      <td>0.446889</td>\n",
       "      <td>0.722069</td>\n",
       "      <td>0.585791</td>\n",
       "      <td>0.596287</td>\n",
       "      <td>0.172752</td>\n",
       "      <td>1.000000</td>\n",
       "      <td>0.621704</td>\n",
       "      <td>0.688074</td>\n",
       "    </tr>\n",
       "    <tr>\n",
       "      <th>EU</th>\n",
       "      <td>0.655519</td>\n",
       "      <td>0.690761</td>\n",
       "      <td>0.687550</td>\n",
       "      <td>0.936393</td>\n",
       "      <td>0.948963</td>\n",
       "      <td>0.283750</td>\n",
       "      <td>0.621704</td>\n",
       "      <td>1.000000</td>\n",
       "      <td>0.716502</td>\n",
       "    </tr>\n",
       "    <tr>\n",
       "      <th>EM</th>\n",
       "      <td>0.600295</td>\n",
       "      <td>0.701954</td>\n",
       "      <td>0.528243</td>\n",
       "      <td>0.665162</td>\n",
       "      <td>0.687543</td>\n",
       "      <td>0.547288</td>\n",
       "      <td>0.688074</td>\n",
       "      <td>0.716502</td>\n",
       "      <td>1.000000</td>\n",
       "    </tr>\n",
       "  </tbody>\n",
       "</table>\n",
       "</div>"
      ],
      "text/plain": [
       "              TL_BASED_ISE  US_BASED_ISE        SP       DAX      FTSE  \\\n",
       "TL_BASED_ISE      1.000000      0.942897  0.439489  0.602081  0.622948   \n",
       "US_BASED_ISE      0.942897      1.000000  0.449561  0.629218  0.648740   \n",
       "SP                0.439489      0.449561  1.000000  0.685843  0.657673   \n",
       "DAX               0.602081      0.629218  0.685843  1.000000  0.867369   \n",
       "FTSE              0.622948      0.648740  0.657673  0.867369  1.000000   \n",
       "NIKKEI            0.260052      0.393225  0.131250  0.258538  0.255236   \n",
       "BOVESPA           0.432898      0.446889  0.722069  0.585791  0.596287   \n",
       "EU                0.655519      0.690761  0.687550  0.936393  0.948963   \n",
       "EM                0.600295      0.701954  0.528243  0.665162  0.687543   \n",
       "\n",
       "                NIKKEI   BOVESPA        EU        EM  \n",
       "TL_BASED_ISE  0.260052  0.432898  0.655519  0.600295  \n",
       "US_BASED_ISE  0.393225  0.446889  0.690761  0.701954  \n",
       "SP            0.131250  0.722069  0.687550  0.528243  \n",
       "DAX           0.258538  0.585791  0.936393  0.665162  \n",
       "FTSE          0.255236  0.596287  0.948963  0.687543  \n",
       "NIKKEI        1.000000  0.172752  0.283750  0.547288  \n",
       "BOVESPA       0.172752  1.000000  0.621704  0.688074  \n",
       "EU            0.283750  0.621704  1.000000  0.716502  \n",
       "EM            0.547288  0.688074  0.716502  1.000000  "
      ]
     },
     "execution_count": 20,
     "metadata": {},
     "output_type": "execute_result"
    }
   ],
   "source": [
    "df.corr()"
   ]
  },
  {
   "cell_type": "code",
   "execution_count": 21,
   "metadata": {},
   "outputs": [
    {
     "data": {
      "image/png": "[encoded data removed]",
      "text/plain": [
       "<Figure size 432x288 with 2 Axes>"
      ]
     },
     "metadata": {
      "needs_background": "light"
     },
     "output_type": "display_data"
    }
   ],
   "source": [
    "correlation_matrix(df) # original data"
   ]
  },
  {
   "cell_type": "code",
   "execution_count": 22,
   "metadata": {},
   "outputs": [
    {
     "data": {
      "text/html": [
       "<div>\n",
       "<style scoped>\n",
       "    .dataframe tbody tr th:only-of-type {\n",
       "        vertical-align: middle;\n",
       "    }\n",
       "\n",
       "    .dataframe tbody tr th {\n",
       "        vertical-align: top;\n",
       "    }\n",
       "\n",
       "    .dataframe thead th {\n",
       "        text-align: right;\n",
       "    }\n",
       "</style>\n",
       "<table border=\"1\" class=\"dataframe\">\n",
       "  <thead>\n",
       "    <tr style=\"text-align: right;\">\n",
       "      <th></th>\n",
       "      <th>TL_BASED_ISE</th>\n",
       "      <th>US_BASED_ISE</th>\n",
       "      <th>SP</th>\n",
       "      <th>DAX</th>\n",
       "      <th>FTSE</th>\n",
       "      <th>NIKKEI</th>\n",
       "      <th>BOVESPA</th>\n",
       "      <th>EU</th>\n",
       "      <th>EM</th>\n",
       "    </tr>\n",
       "  </thead>\n",
       "  <tbody>\n",
       "    <tr>\n",
       "      <th>TL_BASED_ISE</th>\n",
       "      <td>1.000000</td>\n",
       "      <td>0.942897</td>\n",
       "      <td>0.439489</td>\n",
       "      <td>0.602081</td>\n",
       "      <td>0.622948</td>\n",
       "      <td>0.260052</td>\n",
       "      <td>0.432898</td>\n",
       "      <td>0.655519</td>\n",
       "      <td>0.600295</td>\n",
       "    </tr>\n",
       "    <tr>\n",
       "      <th>US_BASED_ISE</th>\n",
       "      <td>0.942897</td>\n",
       "      <td>1.000000</td>\n",
       "      <td>0.449561</td>\n",
       "      <td>0.629218</td>\n",
       "      <td>0.648740</td>\n",
       "      <td>0.393225</td>\n",
       "      <td>0.446889</td>\n",
       "      <td>0.690761</td>\n",
       "      <td>0.701954</td>\n",
       "    </tr>\n",
       "    <tr>\n",
       "      <th>SP</th>\n",
       "      <td>0.439489</td>\n",
       "      <td>0.449561</td>\n",
       "      <td>1.000000</td>\n",
       "      <td>0.685843</td>\n",
       "      <td>0.657673</td>\n",
       "      <td>0.131250</td>\n",
       "      <td>0.722069</td>\n",
       "      <td>0.687550</td>\n",
       "      <td>0.528243</td>\n",
       "    </tr>\n",
       "    <tr>\n",
       "      <th>DAX</th>\n",
       "      <td>0.602081</td>\n",
       "      <td>0.629218</td>\n",
       "      <td>0.685843</td>\n",
       "      <td>1.000000</td>\n",
       "      <td>0.867369</td>\n",
       "      <td>0.258538</td>\n",
       "      <td>0.585791</td>\n",
       "      <td>0.936393</td>\n",
       "      <td>0.665162</td>\n",
       "    </tr>\n",
       "    <tr>\n",
       "      <th>FTSE</th>\n",
       "      <td>0.622948</td>\n",
       "      <td>0.648740</td>\n",
       "      <td>0.657673</td>\n",
       "      <td>0.867369</td>\n",
       "      <td>1.000000</td>\n",
       "      <td>0.255236</td>\n",
       "      <td>0.596287</td>\n",
       "      <td>0.948963</td>\n",
       "      <td>0.687543</td>\n",
       "    </tr>\n",
       "    <tr>\n",
       "      <th>NIKKEI</th>\n",
       "      <td>0.260052</td>\n",
       "      <td>0.393225</td>\n",
       "      <td>0.131250</td>\n",
       "      <td>0.258538</td>\n",
       "      <td>0.255236</td>\n",
       "      <td>1.000000</td>\n",
       "      <td>0.172752</td>\n",
       "      <td>0.283750</td>\n",
       "      <td>0.547288</td>\n",
       "    </tr>\n",
       "    <tr>\n",
       "      <th>BOVESPA</th>\n",
       "      <td>0.432898</td>\n",
       "      <td>0.446889</td>\n",
       "      <td>0.722069</td>\n",
       "      <td>0.585791</td>\n",
       "      <td>0.596287</td>\n",
       "      <td>0.172752</td>\n",
       "      <td>1.000000</td>\n",
       "      <td>0.621704</td>\n",
       "      <td>0.688074</td>\n",
       "    </tr>\n",
       "    <tr>\n",
       "      <th>EU</th>\n",
       "      <td>0.655519</td>\n",
       "      <td>0.690761</td>\n",
       "      <td>0.687550</td>\n",
       "      <td>0.936393</td>\n",
       "      <td>0.948963</td>\n",
       "      <td>0.283750</td>\n",
       "      <td>0.621704</td>\n",
       "      <td>1.000000</td>\n",
       "      <td>0.716502</td>\n",
       "    </tr>\n",
       "    <tr>\n",
       "      <th>EM</th>\n",
       "      <td>0.600295</td>\n",
       "      <td>0.701954</td>\n",
       "      <td>0.528243</td>\n",
       "      <td>0.665162</td>\n",
       "      <td>0.687543</td>\n",
       "      <td>0.547288</td>\n",
       "      <td>0.688074</td>\n",
       "      <td>0.716502</td>\n",
       "      <td>1.000000</td>\n",
       "    </tr>\n",
       "  </tbody>\n",
       "</table>\n",
       "</div>"
      ],
      "text/plain": [
       "              TL_BASED_ISE  US_BASED_ISE        SP       DAX      FTSE  \\\n",
       "TL_BASED_ISE      1.000000      0.942897  0.439489  0.602081  0.622948   \n",
       "US_BASED_ISE      0.942897      1.000000  0.449561  0.629218  0.648740   \n",
       "SP                0.439489      0.449561  1.000000  0.685843  0.657673   \n",
       "DAX               0.602081      0.629218  0.685843  1.000000  0.867369   \n",
       "FTSE              0.622948      0.648740  0.657673  0.867369  1.000000   \n",
       "NIKKEI            0.260052      0.393225  0.131250  0.258538  0.255236   \n",
       "BOVESPA           0.432898      0.446889  0.722069  0.585791  0.596287   \n",
       "EU                0.655519      0.690761  0.687550  0.936393  0.948963   \n",
       "EM                0.600295      0.701954  0.528243  0.665162  0.687543   \n",
       "\n",
       "                NIKKEI   BOVESPA        EU        EM  \n",
       "TL_BASED_ISE  0.260052  0.432898  0.655519  0.600295  \n",
       "US_BASED_ISE  0.393225  0.446889  0.690761  0.701954  \n",
       "SP            0.131250  0.722069  0.687550  0.528243  \n",
       "DAX           0.258538  0.585791  0.936393  0.665162  \n",
       "FTSE          0.255236  0.596287  0.948963  0.687543  \n",
       "NIKKEI        1.000000  0.172752  0.283750  0.547288  \n",
       "BOVESPA       0.172752  1.000000  0.621704  0.688074  \n",
       "EU            0.283750  0.621704  1.000000  0.716502  \n",
       "EM            0.547288  0.688074  0.716502  1.000000  "
      ]
     },
     "execution_count": 22,
     "metadata": {},
     "output_type": "execute_result"
    }
   ],
   "source": [
    "df_normalized.corr()"
   ]
  },
  {
   "cell_type": "code",
   "execution_count": 23,
   "metadata": {},
   "outputs": [
    {
     "data": {
      "image/png": "[encoded data removed]",
      "text/plain": [
       "<Figure size 432x288 with 2 Axes>"
      ]
     },
     "metadata": {
      "needs_background": "light"
     },
     "output_type": "display_data"
    }
   ],
   "source": [
    "correlation_matrix(df_normalized) # normalized data"
   ]
  },
  {
   "cell_type": "code",
   "execution_count": 24,
   "metadata": {},
   "outputs": [],
   "source": [
    "X = df_normalized.drop('TL_BASED_ISE',axis=1)\n",
    "y = df_normalized['TL_BASED_ISE']"
   ]
  },
  {
   "cell_type": "code",
   "execution_count": 25,
   "metadata": {},
   "outputs": [
    {
     "name": "stdout",
     "output_type": "stream",
     "text": [
      "X_train shape:  (402, 8)\n",
      "y_train shape:  (402,)\n",
      "X_test shape:  (134, 8)\n",
      "y_test shape:  (134,)\n"
     ]
    }
   ],
   "source": [
    "# Split data to training and test\n",
    "from sklearn.model_selection import train_test_split\n",
    "# Split X and y into X_\n",
    "X_train, X_test, y_train, y_test = train_test_split(X, y, test_size=0.25, random_state=1)\n",
    "print(\"X_train shape: \",X_train.shape) # 294 rows, 6 columns\n",
    "print(\"y_train shape: \",y_train.shape) # 294 rows, 1 column\n",
    "print(\"X_test shape: \",X_test.shape) # 98 rows, 6 columns\n",
    "print(\"y_test shape: \",y_test.shape) # 98 rows, 1 column\n",
    "# print(y_train)"
   ]
  },
  {
   "cell_type": "code",
   "execution_count": 26,
   "metadata": {},
   "outputs": [
    {
     "name": "stdout",
     "output_type": "stream",
     "text": [
      "dict_keys(['Linear_Regression', 'Ridge', 'Lasso', 'LassoLars', 'BayesianRidge'])\n"
     ]
    }
   ],
   "source": [
    "# Training models in Python dictionary\n",
    "import math\n",
    "from sklearn.metrics import mean_squared_error\n",
    "from sklearn.linear_model import LinearRegression\n",
    "from sklearn.linear_model import Ridge\n",
    "from sklearn.linear_model import Lasso\n",
    "from sklearn.linear_model import LassoLars\n",
    "from sklearn.linear_model import BayesianRidge\n",
    "\n",
    "# Next line is \"dictionary\" data structure from class 1\n",
    "d_models = {\"Linear_Regression\": LinearRegression(),\n",
    "            \"Ridge\": Ridge(alpha=0.5),\n",
    "            \"Lasso\": Lasso(alpha=0.1),\n",
    "            \"LassoLars\": LassoLars(alpha=0.1),\n",
    "            \"BayesianRidge\": BayesianRidge()}\n",
    "models_list = d_models.keys()\n",
    "print(models_list)"
   ]
  },
  {
   "cell_type": "code",
   "execution_count": 27,
   "metadata": {},
   "outputs": [
    {
     "name": "stdout",
     "output_type": "stream",
     "text": [
      "Linear_Regression   0.04076507478334984\n",
      "Ridge   0.0423357378199359\n",
      "Lasso   0.11874098024088314\n",
      "LassoLars   0.11874098024088314\n",
      "BayesianRidge   0.04064188401890234\n"
     ]
    }
   ],
   "source": [
    "for regression_model in models_list:\n",
    "    regressor = d_models[regression_model]\n",
    "    regressor.fit(X_train,y_train)\n",
    "    y_predict = regressor.predict(X_test)\n",
    "    regression_model_mse = mean_squared_error(y_predict, y_test)\n",
    "    print(regression_model,\" \",math.sqrt(regression_model_mse))"
   ]
  },
  {
   "cell_type": "code",
   "execution_count": null,
   "metadata": {},
   "outputs": [],
   "source": [
    "#least regression factor would be the best modeling"
   ]
  },
  {
   "cell_type": "code",
   "execution_count": 28,
   "metadata": {},
   "outputs": [
    {
     "name": "stdout",
     "output_type": "stream",
     "text": [
      "0.009937726368746513\n",
      "[ 1.11933195 -0.00422212  0.11602283  0.13811935 -0.04776796  0.06872734\n",
      " -0.22581775 -0.18483498]\n",
      "Number of coefficients is  8\n"
     ]
    }
   ],
   "source": [
    "# Training model\n",
    "from sklearn.linear_model import BayesianRidge\n",
    "lm = BayesianRidge()\n",
    "lm.fit(X_train, y_train)\n",
    "print(lm.intercept_)\n",
    "print(lm.coef_)\n",
    "print (\"Number of coefficients is \",len(lm.coef_))"
   ]
  },
  {
   "cell_type": "code",
   "execution_count": 29,
   "metadata": {},
   "outputs": [
    {
     "name": "stdout",
     "output_type": "stream",
     "text": [
      "0.04064188401890234\n"
     ]
    }
   ],
   "source": [
    "import math\n",
    "from sklearn.metrics import mean_squared_error\n",
    "y_predict = lm.predict(X_test)\n",
    "regression_model_mse = mean_squared_error(y_predict, y_test)\n",
    "print(math.sqrt(regression_model_mse))"
   ]
  },
  {
   "cell_type": "code",
   "execution_count": null,
   "metadata": {},
   "outputs": [],
   "source": []
  }
 ],
 "metadata": {
  "kernelspec": {
   "display_name": "Python 3",
   "language": "python",
   "name": "python3"
  },
  "language_info": {
   "codemirror_mode": {
    "name": "ipython",
    "version": 3
   },
   "file_extension": ".py",
   "mimetype": "text/x-python",
   "name": "python",
   "nbconvert_exporter": "python",
   "pygments_lexer": "ipython3",
   "version": "3.6.6"
  }
 },
 "nbformat": 4,
 "nbformat_minor": 2
}
